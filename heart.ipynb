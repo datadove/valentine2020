{
 "cells": [
  {
   "cell_type": "code",
   "execution_count": null,
   "metadata": {},
   "outputs": [],
   "source": []
  },
  {
   "cell_type": "code",
   "execution_count": 1,
   "metadata": {},
   "outputs": [],
   "source": [
    "import turtle\n",
    "from turtle import *\n",
    "def curvemove():\n",
    "    for i in range(200):\n",
    "        right(1)\n",
    "        forward(1)\n",
    "turtle.pensize(width=3)#画笔宽度\n",
    "color(\"red\",\"pink\")#画笔颜色以及填充颜色\n",
    "begin_fill()\n",
    "left(140)#逆时针旋转140度\n",
    "turtle.speed(0)#画线速度\n",
    "forward(111.65)#向前行走111.65\n",
    "curvemove()#调用curvemove函数\n",
    "left(120)\n",
    "curvemove()\n",
    "turtle.speed(0)\n",
    "forward(111.65)\n",
    "end_fill()\n",
    "turtle.up()#停止画线\n",
    "left(230)\n",
    "forward(75)\n",
    "turtle.write(\"我爱数据鸽\",align=\"Center\",font=(\"宋体\", 22, \"normal\"))\n",
    "done()"
   ]
  },
  {
   "cell_type": "code",
   "execution_count": null,
   "metadata": {},
   "outputs": [],
   "source": []
  }
 ],
 "metadata": {
  "kernelspec": {
   "display_name": "Python 3",
   "language": "python",
   "name": "python3"
  },
  "language_info": {
   "codemirror_mode": {
    "name": "ipython",
    "version": 3
   },
   "file_extension": ".py",
   "mimetype": "text/x-python",
   "name": "python",
   "nbconvert_exporter": "python",
   "pygments_lexer": "ipython3",
   "version": "3.7.4"
  }
 },
 "nbformat": 4,
 "nbformat_minor": 2
}
